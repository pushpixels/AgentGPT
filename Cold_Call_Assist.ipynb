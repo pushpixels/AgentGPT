{
  "nbformat": 4,
  "nbformat_minor": 0,
  "metadata": {
    "colab": {
      "provenance": [],
      "include_colab_link": true
    },
    "kernelspec": {
      "name": "python3",
      "display_name": "Python 3"
    },
    "language_info": {
      "name": "python"
    }
  },
  "cells": [
    {
      "cell_type": "markdown",
      "metadata": {
        "id": "view-in-github",
        "colab_type": "text"
      },
      "source": [
        "<a href=\"https://colab.research.google.com/github/pushpixels/AgentGPT/blob/main/Cold_Call_Assist.ipynb\" target=\"_parent\"><img src=\"https://colab.research.google.com/assets/colab-badge.svg\" alt=\"Open In Colab\"/></a>"
      ]
    },
    {
      "cell_type": "markdown",
      "source": [
        "**25% off** BlandAI: https://app.bland.ai/signup?ref=763d7133-0070-45e9-92ac-bf7c83080a62"
      ],
      "metadata": {
        "id": "326Ese4knB1e"
      }
    },
    {
      "cell_type": "code",
      "execution_count": null,
      "metadata": {
        "id": "uEZQ56oWm2gh"
      },
      "outputs": [],
      "source": [
        "!pip install pandas\n",
        "!pip install requests"
      ]
    },
    {
      "cell_type": "code",
      "source": [
        "import requests\n",
        "import pandas as pd\n",
        "\n",
        "# Define your API key and headers for authentication\n",
        "api_key = 'YOUR_BLANDAI_API_KEY'\n",
        "headers = {\n",
        "    \"authorization\": api_key,\n",
        "    \"Content-Type\": \"application/json\"\n",
        "}\n",
        "\n",
        "# Load the call list from a CSV file\n",
        "df = pd.read_csv('YOUR_FILEPATH')\n",
        "\n",
        "\n",
        "# Define the payload for the batch call\n",
        "batch_payload = {\n",
        "    \"base_prompt\": \"You're calling to speak with {{name}} about refinancing their mortgage down to six percent. Tell them it's never been a better time to refinance.  You're calling from Estate of Bliss Realty. If the person is interested, transfer the call to {{default}}.\",\n",
        "    \"call_data\": [\n",
        "        {\n",
        "            \"phone_number\": str(row['Phone Number']),\n",
        "            \"name\": row['Name'],\n",
        "        } for index, row in df.iterrows()\n",
        "    ],\n",
        "    #define transfer phone numbers\n",
        "    \"transfer_list\": {\n",
        "        \"default\": \"15558457896\",\n",
        "        \"sales\": \"1555552323\"\n",
        "    },\n",
        "    #Define tough to pronounce words\n",
        "    \"pronunciation_guide\": [\n",
        "      {\n",
        "        \"word\": \"realty\",\n",
        "        \"pronunciation\": \"real-tea\",\n",
        "      },\n",
        "      {\n",
        "        \"word\": \"Estate\",\n",
        "        \"pronunciation\": \"Es-state\",\n",
        "      }\n",
        "    ],\n",
        "    \"model\": \"enhanced\",\n",
        "    \"wait_for_greeting\": False,\n",
        "    \"first_sentence\": \"Hi there, I'm calling about refinancing your mortgage down to six percent!  Are you the current home owner?\",\n",
        "    \"voice\": \"maya\",            #this changed on Bland AI's side, so I updated here - different from video\n",
        "    \"reduce_latency\": True,\n",
        "    \"temperature\": 0.7,\n",
        "    \"test_mode\": False,\n",
        "    \"campaign_id\": \"Tech-at-Work\",\n",
        "    \"label\": \"Testing-1\"\n",
        "}\n",
        "\n",
        "# Sending the batch of calls\n",
        "send_batch_url = \"https://api.bland.ai/v1/batches\"\n",
        "response = requests.post(send_batch_url, json=batch_payload, headers=headers)\n",
        "batch_response = response.json()\n",
        "\n",
        "if batch_response.get('message') == 'success':\n",
        "    print(\"Batch sent successfully\")\n",
        "    batch_id = batch_response.get('batch_id')\n",
        "else:\n",
        "    print(\"Failed to send batch\")\n",
        "    print(response.text)\n",
        "    # If the batch fails to send, halt further execution\n",
        "    raise Exception(\"Batch sending failed, halting execution.\")"
      ],
      "metadata": {
        "id": "0KAXPpdgnMJW"
      },
      "execution_count": null,
      "outputs": []
    },
    {
      "cell_type": "code",
      "source": [
        "# Analyze the batch calls and give a status of each\n",
        "analyze_url = f\"https://api.bland.ai/v1/batches/{batch_id}/analyze\"\n",
        "analyze_payload = {\n",
        "    \"goal\": \"Is customer interested in refinancing their mortgage\",\n",
        "    \"questions\": [\n",
        "        [\"Who answered the call?\", \"human or voicemail\"],\n",
        "        [\"Was the customer interested in refinancing?\", \"yes or no\"],\n",
        "        [\"Did they ask to be transferred?\", \"yes or no\"],\n",
        "        [\"What reason did the customer have for not wanting to refinance?\", \"string\"]\n",
        "    ]\n",
        "}\n",
        "\n",
        "analyze_response = requests.post(analyze_url, json=analyze_payload, headers=headers)\n",
        "analyze_result = analyze_response.json()\n",
        "\n",
        "if analyze_result['status'] == 'success':\n",
        "    print(\"Batch analyzed successfully\")\n",
        "    answers = analyze_result['answers']\n",
        "    # Compile analysis results into a report\n",
        "    report_data = []\n",
        "    for call_id, analysis in answers.items():\n",
        "        report_row = {\n",
        "            \"Call ID\": call_id,\n",
        "            \"Answered By\": analysis[0] if analysis[0] is not None else \"N/A\",\n",
        "            \"Interested in Refinancing\": analysis[1] if analysis[1] is not None else \"N/A\",\n",
        "            \"Ask to be transferred\": analysis[2] if analysis[2] is not None else \"N/A\",\n",
        "            \"Reason Not Interested\": analysis[3] if analysis[3] is not None else \"N/A\"\n",
        "        }\n",
        "        report_data.append(report_row)\n",
        "\n",
        "    # Convert report data into a DataFrame\n",
        "    report_df = pd.DataFrame(report_data)\n",
        "\n",
        "    # Use to_string for better alignment in the Colab output window, index=False removes the DataFrame index\n",
        "    print(report_df.to_string(index=False))\n",
        "        # Optionally save to CSV\n",
        "    #report_df.to_csv('call_outcomes_report.csv', index=False)\n",
        "else:\n",
        "    print(\"Failed to analyze batch\")\n",
        "    print(analyze_response.text)"
      ],
      "metadata": {
        "id": "85Dt7tOhnjsZ"
      },
      "execution_count": null,
      "outputs": []
    },
    {
      "cell_type": "code",
      "source": [
        "# Use stop_call(call_id) function where necessary to stop calls\n",
        "url = \"https://api.bland.ai/v1/calls/{call_id}/stop\""
      ],
      "metadata": {
        "id": "Er4YCCdZoBsq"
      },
      "execution_count": null,
      "outputs": []
    }
  ]
}